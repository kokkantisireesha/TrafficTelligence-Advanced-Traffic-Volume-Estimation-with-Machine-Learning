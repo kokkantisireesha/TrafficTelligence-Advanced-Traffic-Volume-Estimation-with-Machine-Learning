# %% [markdown]
# # TrafficTelligence - IBM Cloud Deployment
# **Deploy ML model to IBM Cloud as a scoring endpoint**

# %% [markdown]
# ## 1. Install Required Packages
!pip install ibm_watson_machine_learning
!pip install scikit-learn==1.1.1

# %% [markdown]
# ## 2. Authenticate with IBM Cloud
from ibm_watson_machine_learning import APIClient
import json

# Load credentials (replace with your actual credentials)
wml_credentials = {
    "apikey": "YOUR_API_KEY_HERE",
    "url": "https://us-south.ml.cloud.ibm.com"
}

# Initialize client
client = APIClient(wml_credentials)
print("IBM Cloud client initialized successfully!")

# %% [markdown]
# ## 3. Set Up Deployment Space
# Create a new space or use existing
space_name = "traffic_telligence_prod"
space_description = "Production deployment for TrafficTelligence"

# Check for existing space
existing_spaces = client.spaces.get_details()['resources']
space_uid = None

for space in existing_spaces:
    if space['entity']['name'] == space_name:
        space_uid = space['metadata']['id']
        print(f"Using existing space: {space_name} (UID: {space_uid})")
        break

# Create new space if doesn't exist
if not space_uid:
    space_meta = {
        client.spaces.ConfigurationMetaNames.NAME: space_name,
        client.spaces.ConfigurationMetaNames.DESCRIPTION: space_description
    }
    space_details = client.spaces.store(space_meta)
    space_uid = client.spaces.get_uid(space_details)
    print(f"Created new space: {space_name} (UID: {space_uid})")

# Set default space
client.set.default_space(space_uid)
print(f"Default space set to: {space_name}")

# %% [markdown]
# ## 4. Prepare Model Artifacts
import joblib
import os
import tarfile

# Create artifacts directory
os.makedirs('model_artifacts', exist_ok=True)

# Load model components
model = joblib.load('../../Flask/model.pkl')
encoder = joblib.load('../../Flask/encoder.pkl')
scaler = joblib.load('../../Flask/scaler.pkl')

# Save components to artifacts directory
joblib.dump(model, 'model_artifacts/model.pkl')
joblib.dump(encoder, 'model_artifacts/encoder.pkl')
joblib.dump(scaler, 'model_artifacts/scaler.pkl')

# Create metadata file
metadata = {
    "name": "TrafficTelligence",
    "description": "Traffic volume prediction model",
    "framework": "scikit-learn",
    "version": "1.0"
}

with open('model_artifacts/metadata.json', 'w') as f:
    json.dump(metadata, f)

# Package artifacts
with tarfile.open('model.tar.gz', 'w:gz') as tar:
    tar.add('model_artifacts', arcname='.')
    
print("Model artifacts packaged successfully!")

# %% [markdown]
# ## 5. Upload Model to IBM Cloud
# Define model metadata
software_spec_uid = client.software_specifications.get_uid_by_name("runtime-22.2-py3.10")

model_props = {
    client.repository.ModelMetaNames.NAME: "TrafficTelligence_Model",
    client.repository.ModelMetaNames.DESCRIPTION: "Random Forest model for traffic volume prediction",
    client.repository.ModelMetaNames.SOFTWARE_SPEC_UID: software_spec_uid,
    client.repository.ModelMetaNames.TYPE: "scikit-learn_1.1"
}

# Upload model
model_details = client.repository.store_model(
    model='model.tar.gz',
    meta_props=model_props
)

model_uid = client.repository.get_model_uid(model_details)
print(f"Model uploaded successfully! Model UID: {model_uid}")

# %% [markdown]
# ## 6. Create Online Deployment
# Deployment configuration
deployment_name = "traffic-volume-prediction-api"
deployment_desc = "Real-time traffic volume prediction endpoint"

deployment_props = {
    client.deployments.ConfigurationMetaNames.NAME: deployment_name,
    client.deployments.ConfigurationMetaNames.DESCRIPTION: deployment_desc,
    client.deployments.ConfigurationMetaNames.ONLINE: {}
}

# Create deployment
deployment_details = client.deployments.create(
    artifact_uid=model_uid,
    meta_props=deployment_props
)

deployment_uid = client.deployments.get_uid(deployment_details)
print(f"Deployment created successfully! Deployment UID: {deployment_uid}")

# Get endpoint URL
deployment_status = client.deployments.get_details(deployment_uid)
scoring_url = client.deployments.get_scoring_href(deployment_status)
print(f"Scoring endpoint URL: {scoring_url}")

# %% [markdown]
# ## 7. Test Deployment
import requests

# Prepare headers
headers = {
    "Content-Type": "application/json",
    "Authorization": f"Bearer {client.wml_token}"
}

# Sample payload
payload = {
    "input_data": [
        {
            "fields": [
                "hour", "temperature", "humidity", "wind_speed", 
                "is_holiday", "is_weekend", "road_type", "near_intersection"
            ],
            "values": [
                [17, 22.5, 65, 10.2, 0, 0, "highway", "yes"],   # Rush hour
                [10, 18.3, 45, 5.5, 0, 1, "arterial", "no"],     # Weekend
                [2, 12.1, 85, 15.0, 0, 0, "residential", "no"]   # Night
            ]
        }
    ]
}

# Make prediction request
response = requests.post(scoring_url, json=payload, headers=headers)
predictions = response.json()

print("Prediction results:")
for i, pred in enumerate(predictions['predictions'][0]['values']):
    print(f"Input {i+1}: {pred[0]} vehicles/hour")

# %% [markdown]
# ## 8. Save Deployment Configuration
# Save configuration for future use
deployment_config = {
    "space_uid": space_uid,
    "model_uid": model_uid,
    "deployment_uid": deployment_uid,
    "scoring_url": scoring_url
}

with open('deployment_config.json', 'w') as f:
    json.dump(deployment_config, f)
    
print("Deployment configuration saved!")

# %% [markdown]
# ## 9. Cleanup (Optional)
# Uncomment to delete deployment and model when no longer needed
# client.deployments.delete(deployment_uid)
# client.repository.delete(model_uid)
# print("Resources deleted successfully")

# %% [markdown]
# ## Deployment Summary
print("\n" + "="*50)
print("DEPLOYMENT SUCCESSFUL!")
print("="*50)
print(f"Model Name: TrafficTelligence_Model")
print(f"Model UID: {model_uid}")
print(f"Deployment Name: {deployment_name}")
print(f"Deployment UID: {deployment_uid}")
print(f"Scoring URL: {scoring_url}")
print("="*50)
print("Use this curl command for testing:")
print(f"""
curl -X POST '{scoring_url}' \\
  -H 'Authorization: Bearer {client.wml_token}' \\
  -H 'Content-Type: application/json' \\
  -d '{{{
    "input_data": [{{
        "fields": ["hour","temperature","humidity","wind_speed","is_holiday","is_weekend","road_type","near_intersection"],
        "values": [[17, 22.5, 65, 10.2, 0, 0, "highway", "yes"]]
    }}]
}}'
""")
